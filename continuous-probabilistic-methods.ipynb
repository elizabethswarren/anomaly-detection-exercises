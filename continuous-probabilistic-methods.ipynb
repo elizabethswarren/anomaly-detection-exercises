{
 "cells": [
  {
   "cell_type": "markdown",
   "id": "24bb90b4",
   "metadata": {},
   "source": [
    "# Continuous Probabilistic Methods"
   ]
  },
  {
   "cell_type": "code",
   "execution_count": 1,
   "id": "ef6106a1",
   "metadata": {},
   "outputs": [],
   "source": [
    "import pandas as pd\n",
    "import numpy as np\n",
    "import seaborn as sns\n",
    "import matplotlib.pyplot as plt\n"
   ]
  },
  {
   "cell_type": "code",
   "execution_count": 2,
   "id": "8a7f0884",
   "metadata": {},
   "outputs": [],
   "source": [
    "df = pd.read_csv('https://gist.githubusercontent.com/ryanorsinger/19bc7eccd6279661bd13307026628ace/raw/e4b5d6787015a4782f96cad6d1d62a8bdbac54c7/lemonade.csv')"
   ]
  },
  {
   "cell_type": "code",
   "execution_count": 3,
   "id": "44505a4b",
   "metadata": {},
   "outputs": [
    {
     "data": {
      "text/html": [
       "<div>\n",
       "<style scoped>\n",
       "    .dataframe tbody tr th:only-of-type {\n",
       "        vertical-align: middle;\n",
       "    }\n",
       "\n",
       "    .dataframe tbody tr th {\n",
       "        vertical-align: top;\n",
       "    }\n",
       "\n",
       "    .dataframe thead th {\n",
       "        text-align: right;\n",
       "    }\n",
       "</style>\n",
       "<table border=\"1\" class=\"dataframe\">\n",
       "  <thead>\n",
       "    <tr style=\"text-align: right;\">\n",
       "      <th></th>\n",
       "      <th>Date</th>\n",
       "      <th>Day</th>\n",
       "      <th>Temperature</th>\n",
       "      <th>Rainfall</th>\n",
       "      <th>Flyers</th>\n",
       "      <th>Price</th>\n",
       "      <th>Sales</th>\n",
       "    </tr>\n",
       "  </thead>\n",
       "  <tbody>\n",
       "    <tr>\n",
       "      <th>0</th>\n",
       "      <td>1/1/17</td>\n",
       "      <td>Sunday</td>\n",
       "      <td>27.0</td>\n",
       "      <td>2.00</td>\n",
       "      <td>15</td>\n",
       "      <td>0.5</td>\n",
       "      <td>10</td>\n",
       "    </tr>\n",
       "    <tr>\n",
       "      <th>1</th>\n",
       "      <td>1/2/17</td>\n",
       "      <td>Monday</td>\n",
       "      <td>28.9</td>\n",
       "      <td>1.33</td>\n",
       "      <td>15</td>\n",
       "      <td>0.5</td>\n",
       "      <td>13</td>\n",
       "    </tr>\n",
       "    <tr>\n",
       "      <th>2</th>\n",
       "      <td>1/3/17</td>\n",
       "      <td>Tuesday</td>\n",
       "      <td>34.5</td>\n",
       "      <td>1.33</td>\n",
       "      <td>27</td>\n",
       "      <td>0.5</td>\n",
       "      <td>15</td>\n",
       "    </tr>\n",
       "    <tr>\n",
       "      <th>3</th>\n",
       "      <td>1/4/17</td>\n",
       "      <td>Wednesday</td>\n",
       "      <td>44.1</td>\n",
       "      <td>1.05</td>\n",
       "      <td>28</td>\n",
       "      <td>0.5</td>\n",
       "      <td>17</td>\n",
       "    </tr>\n",
       "    <tr>\n",
       "      <th>4</th>\n",
       "      <td>1/5/17</td>\n",
       "      <td>Thursday</td>\n",
       "      <td>42.4</td>\n",
       "      <td>1.00</td>\n",
       "      <td>33</td>\n",
       "      <td>0.5</td>\n",
       "      <td>18</td>\n",
       "    </tr>\n",
       "  </tbody>\n",
       "</table>\n",
       "</div>"
      ],
      "text/plain": [
       "     Date        Day  Temperature  Rainfall  Flyers  Price  Sales\n",
       "0  1/1/17     Sunday         27.0      2.00      15    0.5     10\n",
       "1  1/2/17     Monday         28.9      1.33      15    0.5     13\n",
       "2  1/3/17    Tuesday         34.5      1.33      27    0.5     15\n",
       "3  1/4/17  Wednesday         44.1      1.05      28    0.5     17\n",
       "4  1/5/17   Thursday         42.4      1.00      33    0.5     18"
      ]
     },
     "execution_count": 3,
     "metadata": {},
     "output_type": "execute_result"
    }
   ],
   "source": [
    "df.head()"
   ]
  },
  {
   "cell_type": "code",
   "execution_count": 8,
   "id": "b2116275",
   "metadata": {},
   "outputs": [
    {
     "name": "stdout",
     "output_type": "stream",
     "text": [
      "<class 'pandas.core.frame.DataFrame'>\n",
      "RangeIndex: 365 entries, 0 to 364\n",
      "Data columns (total 7 columns):\n",
      " #   Column       Non-Null Count  Dtype  \n",
      "---  ------       --------------  -----  \n",
      " 0   Date         365 non-null    object \n",
      " 1   Day          365 non-null    object \n",
      " 2   Temperature  365 non-null    float64\n",
      " 3   Rainfall     365 non-null    float64\n",
      " 4   Flyers       365 non-null    int64  \n",
      " 5   Price        365 non-null    float64\n",
      " 6   Sales        365 non-null    int64  \n",
      "dtypes: float64(3), int64(2), object(2)\n",
      "memory usage: 20.1+ KB\n"
     ]
    }
   ],
   "source": [
    "df.info()"
   ]
  },
  {
   "cell_type": "code",
   "execution_count": 24,
   "id": "c9068b0f",
   "metadata": {},
   "outputs": [
    {
     "data": {
      "text/plain": [
       "dtype('int64')"
      ]
     },
     "execution_count": 24,
     "metadata": {},
     "output_type": "execute_result"
    }
   ],
   "source": [
    "df.Flyers.dtype"
   ]
  },
  {
   "cell_type": "markdown",
   "id": "8382b259",
   "metadata": {},
   "source": [
    "1. Define a function named get_lower_and_upper_bounds that has two arguments. The first argument is a pandas Series. The second argument is the multiplier, which should have a default argument of 1.5."
   ]
  },
  {
   "cell_type": "code",
   "execution_count": 4,
   "id": "40862d43",
   "metadata": {},
   "outputs": [],
   "source": [
    "def get_lower_upper_bounds(col, mult=1.5):\n",
    "    '''This function calculates and returns the lower and upper bounds of a Series using the IQR calculations.\n",
    "       The default multiplier is 1.5'''\n",
    "    \n",
    "    #calculate the first quartile\n",
    "    q1 = col.quantile(0.25)\n",
    "    \n",
    "    #calculate the third quartile\n",
    "    q3 = col.quantile(0.75)\n",
    "    \n",
    "    #calculate the iqr \n",
    "    iqr = q3 - q1\n",
    "    \n",
    "    #get the lower bound\n",
    "    lower_bound = q1 - (mult * iqr)\n",
    "    \n",
    "    #get the upper bound\n",
    "    upper_bound = q3 + (mult * iqr)\n",
    "    \n",
    "    return lower_bound, upper_bound"
   ]
  },
  {
   "cell_type": "code",
   "execution_count": 26,
   "id": "e5970c45",
   "metadata": {},
   "outputs": [],
   "source": [
    "lower_bound, upper_bound = get_lower_upper_bounds(df.Flyers, mult=1.5)"
   ]
  },
  {
   "cell_type": "code",
   "execution_count": 30,
   "id": "069d68db",
   "metadata": {},
   "outputs": [
    {
     "data": {
      "text/html": [
       "<div>\n",
       "<style scoped>\n",
       "    .dataframe tbody tr th:only-of-type {\n",
       "        vertical-align: middle;\n",
       "    }\n",
       "\n",
       "    .dataframe tbody tr th {\n",
       "        vertical-align: top;\n",
       "    }\n",
       "\n",
       "    .dataframe thead th {\n",
       "        text-align: right;\n",
       "    }\n",
       "</style>\n",
       "<table border=\"1\" class=\"dataframe\">\n",
       "  <thead>\n",
       "    <tr style=\"text-align: right;\">\n",
       "      <th></th>\n",
       "      <th>Date</th>\n",
       "      <th>Day</th>\n",
       "      <th>Temperature</th>\n",
       "      <th>Rainfall</th>\n",
       "      <th>Flyers</th>\n",
       "      <th>Price</th>\n",
       "      <th>Sales</th>\n",
       "    </tr>\n",
       "  </thead>\n",
       "  <tbody>\n",
       "    <tr>\n",
       "      <th>0</th>\n",
       "      <td>1/1/17</td>\n",
       "      <td>Sunday</td>\n",
       "      <td>27.0</td>\n",
       "      <td>2.00</td>\n",
       "      <td>15</td>\n",
       "      <td>0.5</td>\n",
       "      <td>10</td>\n",
       "    </tr>\n",
       "    <tr>\n",
       "      <th>1</th>\n",
       "      <td>1/2/17</td>\n",
       "      <td>Monday</td>\n",
       "      <td>28.9</td>\n",
       "      <td>1.33</td>\n",
       "      <td>15</td>\n",
       "      <td>0.5</td>\n",
       "      <td>13</td>\n",
       "    </tr>\n",
       "    <tr>\n",
       "      <th>11</th>\n",
       "      <td>1/12/17</td>\n",
       "      <td>Thursday</td>\n",
       "      <td>38.2</td>\n",
       "      <td>1.33</td>\n",
       "      <td>16</td>\n",
       "      <td>0.5</td>\n",
       "      <td>14</td>\n",
       "    </tr>\n",
       "    <tr>\n",
       "      <th>20</th>\n",
       "      <td>1/21/17</td>\n",
       "      <td>Saturday</td>\n",
       "      <td>36.2</td>\n",
       "      <td>1.25</td>\n",
       "      <td>16</td>\n",
       "      <td>0.5</td>\n",
       "      <td>14</td>\n",
       "    </tr>\n",
       "    <tr>\n",
       "      <th>27</th>\n",
       "      <td>1/28/17</td>\n",
       "      <td>Saturday</td>\n",
       "      <td>34.9</td>\n",
       "      <td>1.33</td>\n",
       "      <td>15</td>\n",
       "      <td>0.5</td>\n",
       "      <td>13</td>\n",
       "    </tr>\n",
       "    <tr>\n",
       "      <th>324</th>\n",
       "      <td>11/21/17</td>\n",
       "      <td>Tuesday</td>\n",
       "      <td>47.0</td>\n",
       "      <td>0.95</td>\n",
       "      <td>-38</td>\n",
       "      <td>0.5</td>\n",
       "      <td>20</td>\n",
       "    </tr>\n",
       "    <tr>\n",
       "      <th>337</th>\n",
       "      <td>12/4/17</td>\n",
       "      <td>Monday</td>\n",
       "      <td>34.9</td>\n",
       "      <td>1.54</td>\n",
       "      <td>16</td>\n",
       "      <td>0.5</td>\n",
       "      <td>13</td>\n",
       "    </tr>\n",
       "    <tr>\n",
       "      <th>338</th>\n",
       "      <td>12/5/17</td>\n",
       "      <td>Tuesday</td>\n",
       "      <td>22.0</td>\n",
       "      <td>1.82</td>\n",
       "      <td>11</td>\n",
       "      <td>0.5</td>\n",
       "      <td>10</td>\n",
       "    </tr>\n",
       "    <tr>\n",
       "      <th>343</th>\n",
       "      <td>12/10/17</td>\n",
       "      <td>Sunday</td>\n",
       "      <td>31.3</td>\n",
       "      <td>1.82</td>\n",
       "      <td>15</td>\n",
       "      <td>0.5</td>\n",
       "      <td>11</td>\n",
       "    </tr>\n",
       "    <tr>\n",
       "      <th>350</th>\n",
       "      <td>12/17/17</td>\n",
       "      <td>Sunday</td>\n",
       "      <td>32.2</td>\n",
       "      <td>1.33</td>\n",
       "      <td>16</td>\n",
       "      <td>0.5</td>\n",
       "      <td>14</td>\n",
       "    </tr>\n",
       "    <tr>\n",
       "      <th>364</th>\n",
       "      <td>12/31/17</td>\n",
       "      <td>Sunday</td>\n",
       "      <td>15.1</td>\n",
       "      <td>2.50</td>\n",
       "      <td>9</td>\n",
       "      <td>0.5</td>\n",
       "      <td>7</td>\n",
       "    </tr>\n",
       "  </tbody>\n",
       "</table>\n",
       "</div>"
      ],
      "text/plain": [
       "         Date       Day  Temperature  Rainfall  Flyers  Price  Sales\n",
       "0      1/1/17    Sunday         27.0      2.00      15    0.5     10\n",
       "1      1/2/17    Monday         28.9      1.33      15    0.5     13\n",
       "11    1/12/17  Thursday         38.2      1.33      16    0.5     14\n",
       "20    1/21/17  Saturday         36.2      1.25      16    0.5     14\n",
       "27    1/28/17  Saturday         34.9      1.33      15    0.5     13\n",
       "324  11/21/17   Tuesday         47.0      0.95     -38    0.5     20\n",
       "337   12/4/17    Monday         34.9      1.54      16    0.5     13\n",
       "338   12/5/17   Tuesday         22.0      1.82      11    0.5     10\n",
       "343  12/10/17    Sunday         31.3      1.82      15    0.5     11\n",
       "350  12/17/17    Sunday         32.2      1.33      16    0.5     14\n",
       "364  12/31/17    Sunday         15.1      2.50       9    0.5      7"
      ]
     },
     "execution_count": 30,
     "metadata": {},
     "output_type": "execute_result"
    }
   ],
   "source": [
    "df[df.Flyers < lower_bound]"
   ]
  },
  {
   "cell_type": "markdown",
   "id": "4339a2ce",
   "metadata": {},
   "source": [
    "### 2. Using lemonade.csv dataset and focusing on continuous variables:"
   ]
  },
  {
   "cell_type": "markdown",
   "id": "8cb0ec03",
   "metadata": {},
   "source": [
    "a. Use the IQR Range Rule and the upper and lower bounds to identify the lower outliers of each column of lemonade.csv, using the multiplier of 1.5. Do these lower outliers make sense? Which outliers should be kept?"
   ]
  },
  {
   "cell_type": "code",
   "execution_count": 43,
   "id": "989cbe2b",
   "metadata": {},
   "outputs": [
    {
     "name": "stdout",
     "output_type": "stream",
     "text": [
      "Temperature\n",
      "_______________\n",
      "         Date     Day  Temperature  Rainfall  Flyers  Price  Sales\n",
      "364  12/31/17  Sunday         15.1       2.5       9    0.5      7\n",
      "_______________\n",
      "Rainfall\n",
      "_______________\n",
      "Empty DataFrame\n",
      "Columns: [Date, Day, Temperature, Rainfall, Flyers, Price, Sales]\n",
      "Index: []\n",
      "_______________\n",
      "Flyers\n",
      "_______________\n",
      "         Date      Day  Temperature  Rainfall  Flyers  Price  Sales\n",
      "324  11/21/17  Tuesday         47.0      0.95     -38    0.5     20\n",
      "_______________\n",
      "Price\n",
      "_______________\n",
      "Empty DataFrame\n",
      "Columns: [Date, Day, Temperature, Rainfall, Flyers, Price, Sales]\n",
      "Index: []\n",
      "_______________\n",
      "Sales\n",
      "_______________\n",
      "Empty DataFrame\n",
      "Columns: [Date, Day, Temperature, Rainfall, Flyers, Price, Sales]\n",
      "Index: []\n",
      "_______________\n"
     ]
    }
   ],
   "source": [
    "for col in df.columns:\n",
    "    if df[col].dtype == 'float64' or df[col].dtype == 'int64':\n",
    "        print(col)\n",
    "        print('_______________')\n",
    "        lower_bound, upper_bound = get_lower_upper_bounds(df[col], mult=1.5)\n",
    "        low_out = df[df[col] < lower_bound]\n",
    "        print(low_out)\n",
    "        print('_______________')"
   ]
  },
  {
   "cell_type": "markdown",
   "id": "9cf5c9f0",
   "metadata": {},
   "source": [
    "b. Use the IQR Range Rule and the upper and upper bounds to identify the upper outliers of each column of lemonade.csv, using the multiplier of 1.5. Do these upper outliers make sense? Which outliers should be kept?"
   ]
  },
  {
   "cell_type": "code",
   "execution_count": 44,
   "id": "77e74b4b",
   "metadata": {},
   "outputs": [
    {
     "name": "stdout",
     "output_type": "stream",
     "text": [
      "Temperature\n",
      "_______________\n",
      "       Date       Day  Temperature  Rainfall  Flyers  Price  Sales\n",
      "41  2/11/17  Saturday        212.0      0.91      35    0.5     21\n",
      "_______________\n",
      "Rainfall\n",
      "_______________\n",
      "         Date        Day  Temperature  Rainfall  Flyers  Price  Sales\n",
      "0      1/1/17     Sunday         27.0      2.00      15    0.5     10\n",
      "1      1/2/17     Monday         28.9      1.33      15    0.5     13\n",
      "2      1/3/17    Tuesday         34.5      1.33      27    0.5     15\n",
      "5      1/6/17     Friday         25.3      1.54      23    0.5     11\n",
      "6      1/7/17   Saturday         32.9      1.54      19    0.5     13\n",
      "10    1/11/17  Wednesday         32.6      1.54      23    0.5     12\n",
      "11    1/12/17   Thursday         38.2      1.33      16    0.5     14\n",
      "12    1/13/17     Friday         37.5      1.33      19    0.5     15\n",
      "15    1/16/17     Monday         30.6      1.67      24    0.5     12\n",
      "16    1/17/17    Tuesday         32.2      1.43      26    0.5     14\n",
      "19    1/20/17     Friday         31.6      1.43      20    0.5     12\n",
      "23    1/24/17    Tuesday         28.6      1.54      20    0.5     12\n",
      "27    1/28/17   Saturday         34.9      1.33      15    0.5     13\n",
      "28    1/29/17     Sunday         35.2      1.33      27    0.5     14\n",
      "337   12/4/17     Monday         34.9      1.54      16    0.5     13\n",
      "338   12/5/17    Tuesday         22.0      1.82      11    0.5     10\n",
      "342   12/9/17   Saturday         31.2      1.43      19    0.5     14\n",
      "343  12/10/17     Sunday         31.3      1.82      15    0.5     11\n",
      "345  12/12/17    Tuesday         33.5      1.33      22    0.5     15\n",
      "346  12/13/17  Wednesday         32.2      1.43      26    0.5     14\n",
      "347  12/14/17   Thursday         31.9      1.54      24    0.5     13\n",
      "350  12/17/17     Sunday         32.2      1.33      16    0.5     14\n",
      "351  12/18/17     Monday         30.9      1.43      27    0.5     13\n",
      "354  12/21/17   Thursday         40.5      1.33      23    0.5     15\n",
      "355  12/22/17     Friday         30.9      1.54      17    0.5     13\n",
      "359  12/26/17    Tuesday         28.9      1.43      23    0.5     13\n",
      "363  12/30/17   Saturday         30.9      1.43      22    0.5     13\n",
      "364  12/31/17     Sunday         15.1      2.50       9    0.5      7\n",
      "_______________\n",
      "Flyers\n",
      "_______________\n",
      "        Date     Day  Temperature  Rainfall  Flyers  Price  Sales\n",
      "166  6/16/17  Friday         99.3      0.47      77    0.5     41\n",
      "194  7/14/17  Friday         92.0      0.50      80    0.5     40\n",
      "_______________\n",
      "Price\n",
      "_______________\n",
      "Empty DataFrame\n",
      "Columns: [Date, Day, Temperature, Rainfall, Flyers, Price, Sales]\n",
      "Index: []\n",
      "_______________\n",
      "Sales\n",
      "_______________\n",
      "       Date       Day  Temperature  Rainfall  Flyers  Price  Sales\n",
      "181  7/1/17  Saturday        102.9      0.47      59    0.5    143\n",
      "182  7/2/17    Sunday         93.4      0.51      68    0.5    158\n",
      "183  7/3/17    Monday         81.5      0.54      68    0.5    235\n",
      "184  7/4/17   Tuesday         84.2      0.59      49    0.5    534\n",
      "_______________\n"
     ]
    }
   ],
   "source": [
    "for col in df.columns:\n",
    "    if df[col].dtype == 'float64' or df[col].dtype == 'int64':\n",
    "        print(col)\n",
    "        print('_______________')\n",
    "        lower_bound, upper_bound = get_lower_upper_bounds(df[col], mult=1.5)\n",
    "        high_out = df[df[col] > upper_bound]\n",
    "        print(high_out)\n",
    "        print('_______________')"
   ]
  },
  {
   "cell_type": "markdown",
   "id": "127cd830",
   "metadata": {},
   "source": [
    "c. Using the multiplier of 3, IQR Range Rule, and the lower bounds, identify the outliers below the lower bound in each colum of lemonade.csv. Do these lower outliers make sense? Which outliers should be kept?"
   ]
  },
  {
   "cell_type": "code",
   "execution_count": 45,
   "id": "64f16750",
   "metadata": {},
   "outputs": [
    {
     "name": "stdout",
     "output_type": "stream",
     "text": [
      "Temperature\n",
      "_______________\n",
      "Empty DataFrame\n",
      "Columns: [Date, Day, Temperature, Rainfall, Flyers, Price, Sales]\n",
      "Index: []\n",
      "_______________\n",
      "Rainfall\n",
      "_______________\n",
      "Empty DataFrame\n",
      "Columns: [Date, Day, Temperature, Rainfall, Flyers, Price, Sales]\n",
      "Index: []\n",
      "_______________\n",
      "Flyers\n",
      "_______________\n",
      "         Date      Day  Temperature  Rainfall  Flyers  Price  Sales\n",
      "324  11/21/17  Tuesday         47.0      0.95     -38    0.5     20\n",
      "_______________\n",
      "Price\n",
      "_______________\n",
      "Empty DataFrame\n",
      "Columns: [Date, Day, Temperature, Rainfall, Flyers, Price, Sales]\n",
      "Index: []\n",
      "_______________\n",
      "Sales\n",
      "_______________\n",
      "Empty DataFrame\n",
      "Columns: [Date, Day, Temperature, Rainfall, Flyers, Price, Sales]\n",
      "Index: []\n",
      "_______________\n"
     ]
    }
   ],
   "source": [
    "for col in df.columns:\n",
    "    if df[col].dtype == 'float64' or df[col].dtype == 'int64':\n",
    "        print(col)\n",
    "        print('_______________')\n",
    "        lower_bound, upper_bound = get_lower_upper_bounds(df[col], mult=3)\n",
    "        low_out = df[df[col] < lower_bound]\n",
    "        print(low_out)\n",
    "        print('_______________')"
   ]
  },
  {
   "cell_type": "markdown",
   "id": "8e51cb03",
   "metadata": {},
   "source": [
    "d. Using the multiplier of 3, IQR Range Rule, and the upper bounds, identify the outliers above the upper_bound in each colum of lemonade.csv. Do these upper outliers make sense? Which outliers should be kept?"
   ]
  },
  {
   "cell_type": "code",
   "execution_count": 46,
   "id": "0dfaf88c",
   "metadata": {},
   "outputs": [
    {
     "name": "stdout",
     "output_type": "stream",
     "text": [
      "Temperature\n",
      "_______________\n",
      "       Date       Day  Temperature  Rainfall  Flyers  Price  Sales\n",
      "41  2/11/17  Saturday        212.0      0.91      35    0.5     21\n",
      "_______________\n",
      "Rainfall\n",
      "_______________\n",
      "         Date      Day  Temperature  Rainfall  Flyers  Price  Sales\n",
      "0      1/1/17   Sunday         27.0      2.00      15    0.5     10\n",
      "338   12/5/17  Tuesday         22.0      1.82      11    0.5     10\n",
      "343  12/10/17   Sunday         31.3      1.82      15    0.5     11\n",
      "364  12/31/17   Sunday         15.1      2.50       9    0.5      7\n",
      "_______________\n",
      "Flyers\n",
      "_______________\n",
      "Empty DataFrame\n",
      "Columns: [Date, Day, Temperature, Rainfall, Flyers, Price, Sales]\n",
      "Index: []\n",
      "_______________\n",
      "Price\n",
      "_______________\n",
      "Empty DataFrame\n",
      "Columns: [Date, Day, Temperature, Rainfall, Flyers, Price, Sales]\n",
      "Index: []\n",
      "_______________\n",
      "Sales\n",
      "_______________\n",
      "       Date       Day  Temperature  Rainfall  Flyers  Price  Sales\n",
      "181  7/1/17  Saturday        102.9      0.47      59    0.5    143\n",
      "182  7/2/17    Sunday         93.4      0.51      68    0.5    158\n",
      "183  7/3/17    Monday         81.5      0.54      68    0.5    235\n",
      "184  7/4/17   Tuesday         84.2      0.59      49    0.5    534\n",
      "_______________\n"
     ]
    }
   ],
   "source": [
    "for col in df.columns:\n",
    "    if df[col].dtype == 'float64' or df[col].dtype == 'int64':\n",
    "        print(col)\n",
    "        print('_______________')\n",
    "        lower_bound, upper_bound = get_lower_upper_bounds(df[col], mult=3)\n",
    "        high_out = df[df[col] > upper_bound]\n",
    "        print(high_out)\n",
    "        print('_______________')"
   ]
  },
  {
   "cell_type": "markdown",
   "id": "094170a0",
   "metadata": {},
   "source": [
    "### 3. Identify if any columns in lemonade.csv are normally distributed. For normally distributed columns:"
   ]
  },
  {
   "cell_type": "code",
   "execution_count": 22,
   "id": "2d04e927",
   "metadata": {},
   "outputs": [
    {
     "data": {
      "image/png": "[encoded data removed]",
      "text/plain": [
       "<Figure size 640x480 with 1 Axes>"
      ]
     },
     "metadata": {},
     "output_type": "display_data"
    },
    {
     "data": {
      "image/png": "[encoded data removed]",
      "text/plain": [
       "<Figure size 640x480 with 1 Axes>"
      ]
     },
     "metadata": {},
     "output_type": "display_data"
    },
    {
     "data": {
      "image/png": "[encoded data removed]",
      "text/plain": [
       "<Figure size 640x480 with 1 Axes>"
      ]
     },
     "metadata": {},
     "output_type": "display_data"
    },
    {
     "data": {
      "image/png": "[encoded data removed]",
      "text/plain": [
       "<Figure size 640x480 with 1 Axes>"
      ]
     },
     "metadata": {},
     "output_type": "display_data"
    },
    {
     "data": {
      "image/png": "[encoded data removed]",
      "text/plain": [
       "<Figure size 640x480 with 1 Axes>"
      ]
     },
     "metadata": {},
     "output_type": "display_data"
    }
   ],
   "source": [
    "for col in df.columns:\n",
    "    if df[col].dtype == 'float64' or df[col].dtype == 'int64':\n",
    "        df[col].hist()\n",
    "        plt.title(col)\n",
    "        plt.show()"
   ]
  },
  {
   "cell_type": "markdown",
   "id": "55f4167e",
   "metadata": {},
   "source": [
    "a. Use a 2 sigma decision rule to isolate the outliers.\n",
    "\n",
    "       Do these make sense?\n",
    "       Should certain outliers be kept or removed"
   ]
  },
  {
   "cell_type": "code",
   "execution_count": 49,
   "id": "f96f07da",
   "metadata": {},
   "outputs": [
    {
     "name": "stdout",
     "output_type": "stream",
     "text": [
      "Temperature\n",
      "_______________\n",
      "       Date       Day  Temperature  Rainfall  Flyers  Price  Sales\n",
      "41  2/11/17  Saturday        212.0      0.91      35    0.5     21\n",
      "_______________\n",
      "Rainfall\n",
      "_______________\n",
      "         Date        Day  Temperature  Rainfall  Flyers  Price  Sales\n",
      "0      1/1/17     Sunday         27.0      2.00      15    0.5     10\n",
      "5      1/6/17     Friday         25.3      1.54      23    0.5     11\n",
      "6      1/7/17   Saturday         32.9      1.54      19    0.5     13\n",
      "10    1/11/17  Wednesday         32.6      1.54      23    0.5     12\n",
      "15    1/16/17     Monday         30.6      1.67      24    0.5     12\n",
      "23    1/24/17    Tuesday         28.6      1.54      20    0.5     12\n",
      "337   12/4/17     Monday         34.9      1.54      16    0.5     13\n",
      "338   12/5/17    Tuesday         22.0      1.82      11    0.5     10\n",
      "343  12/10/17     Sunday         31.3      1.82      15    0.5     11\n",
      "347  12/14/17   Thursday         31.9      1.54      24    0.5     13\n",
      "355  12/22/17     Friday         30.9      1.54      17    0.5     13\n",
      "364  12/31/17     Sunday         15.1      2.50       9    0.5      7\n",
      "_______________\n",
      "Flyers\n",
      "_______________\n",
      "Empty DataFrame\n",
      "Columns: [Date, Day, Temperature, Rainfall, Flyers, Price, Sales]\n",
      "Index: []\n",
      "_______________\n"
     ]
    }
   ],
   "source": [
    "for col in df.columns[2:5]:\n",
    "    print(col)\n",
    "    print('_______________')\n",
    "    lower_bound, upper_bound = get_lower_upper_bounds(df[col], mult=2)\n",
    "    high_out = df[df[col] > upper_bound]\n",
    "    print(high_out)\n",
    "    print('_______________')"
   ]
  },
  {
   "cell_type": "markdown",
   "id": "d9595393",
   "metadata": {},
   "source": [
    "b. Now use a 3 sigma decision rule to isolate the outliers in the normally distributed columns from lemonade.csv"
   ]
  },
  {
   "cell_type": "code",
   "execution_count": 50,
   "id": "6ae67dff",
   "metadata": {},
   "outputs": [
    {
     "name": "stdout",
     "output_type": "stream",
     "text": [
      "Temperature\n",
      "_______________\n",
      "       Date       Day  Temperature  Rainfall  Flyers  Price  Sales\n",
      "41  2/11/17  Saturday        212.0      0.91      35    0.5     21\n",
      "_______________\n",
      "Rainfall\n",
      "_______________\n",
      "         Date      Day  Temperature  Rainfall  Flyers  Price  Sales\n",
      "0      1/1/17   Sunday         27.0      2.00      15    0.5     10\n",
      "338   12/5/17  Tuesday         22.0      1.82      11    0.5     10\n",
      "343  12/10/17   Sunday         31.3      1.82      15    0.5     11\n",
      "364  12/31/17   Sunday         15.1      2.50       9    0.5      7\n",
      "_______________\n",
      "Flyers\n",
      "_______________\n",
      "Empty DataFrame\n",
      "Columns: [Date, Day, Temperature, Rainfall, Flyers, Price, Sales]\n",
      "Index: []\n",
      "_______________\n"
     ]
    }
   ],
   "source": [
    "for col in df.columns[2:5]:\n",
    "    print(col)\n",
    "    print('_______________')\n",
    "    lower_bound, upper_bound = get_lower_upper_bounds(df[col], mult=3)\n",
    "    high_out = df[df[col] > upper_bound]\n",
    "    print(high_out)\n",
    "    print('_______________')"
   ]
  },
  {
   "cell_type": "markdown",
   "id": "5afc5e49",
   "metadata": {},
   "source": [
    "* Would not keep the outlier for temperature - it is most likely incorrect input.\n",
    "* Would not keep the lower flyers outlier - impossible to hand out negative flyers. (maybe they were lost?)\n",
    "* Don't know enough about rainfall to determine which outliers would be important or not. "
   ]
  },
  {
   "cell_type": "code",
   "execution_count": null,
   "id": "38de0e31",
   "metadata": {},
   "outputs": [],
   "source": []
  }
 ],
 "metadata": {
  "kernelspec": {
   "display_name": "Python 3 (ipykernel)",
   "language": "python",
   "name": "python3"
  },
  "language_info": {
   "codemirror_mode": {
    "name": "ipython",
    "version": 3
   },
   "file_extension": ".py",
   "mimetype": "text/x-python",
   "name": "python",
   "nbconvert_exporter": "python",
   "pygments_lexer": "ipython3",
   "version": "3.10.9"
  }
 },
 "nbformat": 4,
 "nbformat_minor": 5
}
